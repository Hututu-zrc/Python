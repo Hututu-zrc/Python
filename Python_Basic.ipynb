{
 "cells": [
  {
   "cell_type": "code",
   "execution_count": 4,
   "id": "5817b274-2e6d-4136-a5ff-cd1415209e5a",
   "metadata": {},
   "outputs": [
    {
     "name": "stdin",
     "output_type": "stream",
     "text": [
      "what is your name 2321\n"
     ]
    },
    {
     "name": "stdout",
     "output_type": "stream",
     "text": [
      "it is good to meet you,2321\n",
      "it is good to meet you, 2321\n"
     ]
    }
   ],
   "source": [
    "myNmae=input('what is your name')\n",
    "print('it is good to meet you,'+myNmae)\n",
    "print('it is good to meet you,',myNmae)"
   ]
  },
  {
   "cell_type": "code",
   "execution_count": 7,
   "id": "aac76e9f-4761-4ddf-9468-ef1aa72a45e2",
   "metadata": {},
   "outputs": [
    {
     "name": "stdout",
     "output_type": "stream",
     "text": [
      "2021\n",
      "2 0 2 1\n",
      "2021\n"
     ]
    }
   ],
   "source": [
    "print(2021)\n",
    "print(2,0,2,1)\n",
    "print('202'+'1')"
   ]
  },
  {
   "cell_type": "code",
   "execution_count": 9,
   "id": "1f368db4-710d-46d2-adc1-1a6273c43cfd",
   "metadata": {},
   "outputs": [
    {
     "data": {
      "text/plain": [
       "3.0"
      ]
     },
     "execution_count": 9,
     "metadata": {},
     "output_type": "execute_result"
    }
   ],
   "source": [
    "21/7"
   ]
  },
  {
   "cell_type": "code",
   "execution_count": 13,
   "id": "717a8a60-a97a-4114-b63c-e3524c47a75e",
   "metadata": {},
   "outputs": [
    {
     "name": "stdout",
     "output_type": "stream",
     "text": [
      "3\n"
     ]
    }
   ],
   "source": [
    "print(21//7)"
   ]
  },
  {
   "cell_type": "code",
   "execution_count": 14,
   "id": "70b1b45e-ffc6-4586-823c-7566315540ab",
   "metadata": {},
   "outputs": [
    {
     "name": "stdout",
     "output_type": "stream",
     "text": [
      "200\n",
      "True\n",
      "0\n",
      "0\n"
     ]
    }
   ],
   "source": [
    "print(100 and 200)\n",
    "print(100 and 100>50)\n",
    "print(0 and 200)\n",
    "print(0 and 100>50)"
   ]
  },
  {
   "cell_type": "code",
   "execution_count": 15,
   "id": "82086d9f-2f66-482f-bb91-2d1bdf7a612f",
   "metadata": {},
   "outputs": [
    {
     "name": "stdout",
     "output_type": "stream",
     "text": [
      "100\n",
      "100\n",
      "200\n",
      "True\n"
     ]
    }
   ],
   "source": [
    "print(100 or 200)\n",
    "print(100 or 100>50)\n",
    "print(0 or 200)\n",
    "print(0 or 100>50)"
   ]
  },
  {
   "cell_type": "code",
   "execution_count": 16,
   "id": "92f1300e-3443-4cd4-8689-65627c98d0fa",
   "metadata": {},
   "outputs": [
    {
     "name": "stdout",
     "output_type": "stream",
     "text": [
      "-7 % 3 的余数是 2\n",
      "调整后的非负余数是 2\n",
      "7 % -3 的余数是 -2\n"
     ]
    }
   ],
   "source": [
    "# 示例：负数被除数与正数除数\n",
    "dividend = -7\n",
    "divisor = 3\n",
    "\n",
    "# 直接进行求余运算\n",
    "remainder = dividend % divisor\n",
    "print(f\"{dividend} % {divisor} 的余数是 {remainder}\")  # 输出: -7 % 3 的余数是 -1\n",
    "\n",
    "# 为了得到非负余数，可以进行调整\n",
    "if remainder < 0:\n",
    "    remainder += divisor  # 加上除数（正数）来使余数非负\n",
    "print(f\"调整后的非负余数是 {remainder}\")  # 输出: 调整后的非负余数是 2\n",
    "\n",
    "# 示例：正数被除数与负数除数（注意：这种情况在数学上不太常见，因为通常除数定义为正数）\n",
    "dividend = 7\n",
    "divisor = -3\n",
    "\n",
    "# 直接进行求余运算\n",
    "remainder = dividend % divisor\n",
    "print(f\"{dividend} % {divisor} 的余数是 {remainder}\")  # 输出: 7 % -3 的余数是 1（注意：这里的1是正数，因为余数与被除数同号）\n",
    "\n",
    "# 在这种情况下，如果我们仍然想要一个非负的“等效余数”（尽管除数本身是负数），\n",
    "# 我们需要更复杂的逻辑来处理，因为简单的加除数不再适用（因为加负数会使余数变得更负）。\n",
    "# 一种方法是先取除数的绝对值进行运算，然后根据被除数和除数的符号来确定最终余数的符号。\n",
    "# 但在这个例子中，我们仅展示直接求余的结果。"
   ]
  },
  {
   "cell_type": "code",
   "execution_count": 17,
   "id": "2b54a9ee-094c-4245-aa03-9873e32fe6d0",
   "metadata": {},
   "outputs": [
    {
     "name": "stdout",
     "output_type": "stream",
     "text": [
      "True\n"
     ]
    }
   ],
   "source": [
    "print(not 0)"
   ]
  },
  {
   "cell_type": "code",
   "execution_count": 18,
   "id": "5a50af13-c348-4cdf-9d5a-adcfda6b51b4",
   "metadata": {},
   "outputs": [
    {
     "name": "stdout",
     "output_type": "stream",
     "text": [
      "2\n"
     ]
    }
   ],
   "source": [
    "print(2)"
   ]
  },
  {
   "cell_type": "code",
   "execution_count": 3,
   "id": "33afd593-0d48-4152-8ead-31957470dfe3",
   "metadata": {},
   "outputs": [
    {
     "name": "stdout",
     "output_type": "stream",
     "text": [
      "['ID1024|张三|男|25', 'ID2023|李四|女|30']\n"
     ]
    }
   ],
   "source": [
    "data = \"ID1024|张三|男|25;ID2023|李四|女|30\"\n",
    "result = data.split(\";\")\n",
    "print(result)"
   ]
  },
  {
   "cell_type": "code",
   "execution_count": 5,
   "id": "63f4edd9-47a2-44e4-879f-1bd25f460219",
   "metadata": {},
   "outputs": [
    {
     "name": "stdout",
     "output_type": "stream",
     "text": [
      "[('ID1024', '张三', '男', '25'), ('ID2023', '李四', '女', '30')]\n"
     ]
    }
   ],
   "source": [
    "data = \"ID1024|张三|男|25;ID2023|李四|女|30\"\n",
    "split_data = data.split(\";\")\n",
    "person_info = []\n",
    "for item in split_data:\n",
    "    person_info.append(tuple(item.split(\"|\")))\n",
    "print(person_info)"
   ]
  },
  {
   "cell_type": "code",
   "execution_count": 3,
   "id": "d078a37f-142d-4b46-bed3-87f7125a12dd",
   "metadata": {},
   "outputs": [
    {
     "name": "stdin",
     "output_type": "stream",
     "text": [
      "请输入成绩:  95\n"
     ]
    },
    {
     "name": "stdout",
     "output_type": "stream",
     "text": [
      "等级为A\n"
     ]
    }
   ],
   "source": [
    "score = float(input(\"请输入成绩: \"))\n",
    "if score >= 90 and score <= 100:\n",
    "    print(\"等级为A\")\n",
    "elif score >= 75 and score < 90:\n",
    "    print(\"等级为B\")\n",
    "elif score >= 60 and score < 75:\n",
    "    print(\"等级为C\")\n",
    "else:\n",
    "    print(\"等级为D\")\n"
   ]
  },
  {
   "cell_type": "code",
   "execution_count": 8,
   "id": "3083f821-f8fd-41a5-9370-c693b63654d0",
   "metadata": {},
   "outputs": [
    {
     "name": "stdout",
     "output_type": "stream",
     "text": [
      "210\n"
     ]
    }
   ],
   "source": [
    "i = 1\n",
    "sum_num = 0\n",
    "while i <= 100:\n",
    "    if i%3==0 and i%7==0:\n",
    "        sum_num += i\n",
    "    i += 1\n",
    "print(sum_num)\n"
   ]
  },
  {
   "cell_type": "code",
   "execution_count": 1,
   "id": "95f46bb3-3a87-4e8c-be16-ebd2135ecb60",
   "metadata": {},
   "outputs": [
    {
     "name": "stdout",
     "output_type": "stream",
     "text": [
      "18\n"
     ]
    }
   ],
   "source": [
    "print(2*3**2)\n"
   ]
  },
  {
   "cell_type": "code",
   "execution_count": 6,
   "id": "5ca007f8-00fb-4ba6-b4c2-d714d948a909",
   "metadata": {},
   "outputs": [
    {
     "ename": "SyntaxError",
     "evalue": "expected ':' (2336494573.py, line 1)",
     "output_type": "error",
     "traceback": [
      "\u001b[1;36m  Cell \u001b[1;32mIn[6], line 1\u001b[1;36m\u001b[0m\n\u001b[1;33m    if(5>2)\u001b[0m\n\u001b[1;37m           ^\u001b[0m\n\u001b[1;31mSyntaxError\u001b[0m\u001b[1;31m:\u001b[0m expected ':'\n"
     ]
    }
   ],
   "source": [
    "if(5>2)\n",
    "    print(\"hello\")"
   ]
  },
  {
   "cell_type": "code",
   "execution_count": 10,
   "id": "0e5e476e-5402-4cfa-b790-edc7d7febca0",
   "metadata": {},
   "outputs": [
    {
     "name": "stdout",
     "output_type": "stream",
     "text": [
      "420984********5648\n"
     ]
    }
   ],
   "source": [
    "def func(id):\n",
    "    if len(id) == 18:\n",
    "        newid=id[:6]+\"*\" * 8+ id[14:]\n",
    "        return newid\n",
    "    else:\n",
    "        return \"err\"\n",
    "id =\"420984200106075648\"\n",
    "newid=func(id)\n",
    "print(newid)\n",
    "        "
   ]
  },
  {
   "cell_type": "code",
   "execution_count": 19,
   "id": "b5e09a03-a542-4203-b2b6-9976c9eabd7a",
   "metadata": {},
   "outputs": [
    {
     "name": "stdout",
     "output_type": "stream",
     "text": [
      "302865********2220\n"
     ]
    }
   ],
   "source": [
    "def fun(id):\n",
    "    if len(id)==18:\n",
    "        newid=id[:6]+\"*\" * 8 + id[14:]  \n",
    "        return newid\n",
    "    else:\n",
    "        return \"err\"\n",
    "\n",
    "id=\"302865200001012220\"\n",
    "newid=fun(id)\n",
    "print(newid)"
   ]
  },
  {
   "cell_type": "code",
   "execution_count": 22,
   "id": "50177025-d31e-4389-bb31-722b329857ac",
   "metadata": {},
   "outputs": [
    {
     "name": "stdin",
     "output_type": "stream",
     "text": [
      "请选择您要购买的奶茶编号： 1\n",
      "请输入您要购买的数量： 5\n",
      "您是**奶茶馆的会员吗（y/n）？ y\n",
      "今天是会员日，你可以自定义会员折扣，请输入一个0到1之间的数字： 1\n"
     ]
    },
    {
     "name": "stdout",
     "output_type": "stream",
     "text": [
      "您的折扣输入有误，本次消费还按照会员正常折扣9折，折后总价：54.0元\n"
     ]
    }
   ],
   "source": [
    "# 假设奶茶价格字典，这里简单设置几种奶茶价格，实际可根据需求调整\n",
    "milktea_prices = {\n",
    "    1: 12,\n",
    "    2: 15,\n",
    "    3: 18\n",
    "}\n",
    "\n",
    "# 1. 获取顾客输入\n",
    "milktea_num = int(input('请选择您要购买的奶茶编号：'))\n",
    "milktea_quantity = int(input('请输入您要购买的数量：'))\n",
    "if_vip = input('您是**奶茶馆的会员吗（y/n）？')\n",
    "\n",
    "# 检查奶茶编号是否有效\n",
    "if milktea_num not in milktea_prices:\n",
    "    print('您选择的奶茶编号无效，请重新选择。')\n",
    "else:\n",
    "    # 计算未打折前的金额\n",
    "    money = milktea_prices[milktea_num] * milktea_quantity\n",
    "    if if_vip == 'y':\n",
    "        discount = input('今天是会员日，你可以自定义会员折扣，请输入一个0到1之间的数字：')\n",
    "        try:\n",
    "            discount = float(discount)\n",
    "            if 0 < discount < 1:\n",
    "                money = money * discount\n",
    "                print(f'您可以享受会员价，折扣为：{discount * 10}折，折后总价：{money}元')\n",
    "            else:\n",
    "                money = money * 0.9\n",
    "                print(f'您的折扣输入有误，本次消费还按照会员正常折扣9折，折后总价：{money}元')\n",
    "        except ValueError:\n",
    "            money = money * 0.9\n",
    "            print(f'您的折扣输入有误，本次消费还按照会员正常折扣9折，折后总价：{money}元')\n",
    "    elif if_vip == 'n':\n",
    "        print('不好意思哦，您目前还不是我们的会员，本次无法享受会员价喽，永远爱你么么哒！')\n",
    "        print(f'购买明细：{milktea_num}号奶茶 {milktea_prices[milktea_num]}元*{milktea_quantity}杯')\n",
    "        print(f'应付金额：{money}元')\n",
    "        print(f'实际支付：{money}元')\n",
    "    else:\n",
    "        print('我还是个小宝宝，您的输入我看不懂，您拿着小票问问老板吧！')\n",
    "\n",
    "\n"
   ]
  },
  {
   "cell_type": "code",
   "execution_count": 23,
   "id": "9cf79170-1a97-4fb4-97de-6c8a29902a05",
   "metadata": {},
   "outputs": [
    {
     "name": "stdin",
     "output_type": "stream",
     "text": [
      "请选择您要购买的奶茶编号： \n"
     ]
    },
    {
     "ename": "ValueError",
     "evalue": "invalid literal for int() with base 10: ''",
     "output_type": "error",
     "traceback": [
      "\u001b[1;31m---------------------------------------------------------------------------\u001b[0m",
      "\u001b[1;31mValueError\u001b[0m                                Traceback (most recent call last)",
      "Cell \u001b[1;32mIn[23], line 9\u001b[0m\n\u001b[0;32m      2\u001b[0m milktea_prices \u001b[38;5;241m=\u001b[39m {\n\u001b[0;32m      3\u001b[0m     \u001b[38;5;241m1\u001b[39m: \u001b[38;5;241m12\u001b[39m,\n\u001b[0;32m      4\u001b[0m     \u001b[38;5;241m2\u001b[39m: \u001b[38;5;241m15\u001b[39m,\n\u001b[0;32m      5\u001b[0m     \u001b[38;5;241m3\u001b[39m: \u001b[38;5;241m18\u001b[39m\n\u001b[0;32m      6\u001b[0m }\n\u001b[0;32m      8\u001b[0m \u001b[38;5;66;03m# 1. 获取顾客输入\u001b[39;00m\n\u001b[1;32m----> 9\u001b[0m milktea_num \u001b[38;5;241m=\u001b[39m \u001b[38;5;28mint\u001b[39m(\u001b[38;5;28minput\u001b[39m(\u001b[38;5;124m'\u001b[39m\u001b[38;5;124m请选择您要购买的奶茶编号：\u001b[39m\u001b[38;5;124m'\u001b[39m))\n\u001b[0;32m     10\u001b[0m milktea_quantity \u001b[38;5;241m=\u001b[39m \u001b[38;5;28mint\u001b[39m(\u001b[38;5;28minput\u001b[39m(\u001b[38;5;124m'\u001b[39m\u001b[38;5;124m请输入您要购买的数量：\u001b[39m\u001b[38;5;124m'\u001b[39m))\n\u001b[0;32m     11\u001b[0m if_vip \u001b[38;5;241m=\u001b[39m \u001b[38;5;28minput\u001b[39m(\u001b[38;5;124m'\u001b[39m\u001b[38;5;124m您是**奶茶馆的会员吗（y/n）？\u001b[39m\u001b[38;5;124m'\u001b[39m)\n",
      "\u001b[1;31mValueError\u001b[0m: invalid literal for int() with base 10: ''"
     ]
    }
   ],
   "source": [
    "# 假设奶茶价格字典，这里简单设置几种奶茶价格，实际可根据需求调整\n",
    "milktea_prices = {\n",
    "    1: 12,\n",
    "    2: 15,\n",
    "    3: 18\n",
    "}\n",
    "\n",
    "# 1. 获取顾客输入\n",
    "milktea_num = int(input('请选择您要购买的奶茶编号：'))\n",
    "milktea_quantity = int(input('请输入您要购买的数量：'))\n",
    "if_vip = input('您是**奶茶馆的会员吗（y/n）？')\n",
    "\n",
    "# 检查奶茶编号是否有效\n",
    "if milktea_num not in milktea_prices:\n",
    "    print('您选择的奶茶编号无效，请重新选择。')\n",
    "else:\n",
    "    # 计算未打折前的金额\n",
    "    money = milktea_prices[milktea_num] * milktea_quantity\n",
    "    if if_vip == 'y':\n",
    "        discount_str = input('今天是会员日，你可以自定义会员折扣，请输入一个0到1之间的数字：')\n",
    "        discount = float(discount_str) if discount_str.replace('.', '', 1).isdigit() else 0.9\n",
    "        if 0 < discount < 1:\n",
    "            money = money * discount\n",
    "            print(f'您可以享受会员价，折扣为：{discount * 10}折，折后总价：{money}元')\n",
    "        else:\n",
    "            print(f'您的折扣输入有误，本次消费还按照会员正常折扣9折，折后总价：{money * 0.9}元')\n",
    "    elif if_vip == 'n':\n",
    "        print('不好意思哦，您目前还不是我们的会员，本次无法享受会员价喽，永远爱你么么哒！')\n",
    "        print(f'购买明细：{milktea_num}号奶茶 {milktea_prices[milktea_num]}元*{milktea_quantity}杯')\n",
    "        print(f'应付金额：{money}元')\n",
    "        print(f'实际支付：{money}元')\n",
    "    else:\n",
    "        print('我还是个小宝宝，您的输入我看不懂，您拿着小票问问老板吧！')\n",
    "\n"
   ]
  },
  {
   "cell_type": "code",
   "execution_count": 24,
   "id": "43cbf559-607f-47e1-96d2-aec1a2b47f3c",
   "metadata": {},
   "outputs": [
    {
     "name": "stdout",
     "output_type": "stream",
     "text": [
      "**奶茶馆自助结算系统\n",
      "(1, '原味冰奶茶  12元')\n",
      "(2, '茉香奶绿    15元')\n",
      "(3, '芝士莓果    15元')\n",
      "(4, '草莓奶昔    17元')\n",
      "(5, '黑糖珍珠    20元')\n"
     ]
    },
    {
     "name": "stdin",
     "output_type": "stream",
     "text": [
      "请选择您要购买的奶茶编号： 2\n",
      "请输入您要购买的数量： 2\n",
      "您是**奶茶馆的会员吗（y/n）？ y\n",
      "今天是会员日，你可以自定义会员折扣，请输入一个0到1之间的数字： 0.5\n"
     ]
    },
    {
     "name": "stdout",
     "output_type": "stream",
     "text": [
      "您可以享受会员价，折扣为：5.0折，折后总价：15.0元\n",
      "==================================\n"
     ]
    },
    {
     "name": "stdin",
     "output_type": "stream",
     "text": [
      "是否继续购买？（输入q退出）： y\n"
     ]
    }
   ],
   "source": [
    "print(\"**奶茶馆自助结算系统\")\n",
    "print(\"(1, '原味冰奶茶  12元')\")\n",
    "print(\"(2, '茉香奶绿    15元')\")\n",
    "print(\"(3, '芝士莓果    15元')\")\n",
    "print(\"(4, '草莓奶昔    17元')\")\n",
    "print(\"(5, '黑糖珍珠    20元')\")\n",
    "\n",
    "# 假设奶茶价格字典，这里简单设置几种奶茶价格，实际可根据需求调整\n",
    "milktea_prices = {\n",
    "    1: 12,\n",
    "    2: 15,\n",
    "    3: 18\n",
    "}\n",
    "\n",
    "# 1. 获取顾客输入\n",
    "milktea_num = int(input('请选择您要购买的奶茶编号：'))\n",
    "milktea_quantity = int(input('请输入您要购买的数量：'))\n",
    "if_vip = input('您是**奶茶馆的会员吗（y/n）？')\n",
    "\n",
    "# 检查奶茶编号是否有效\n",
    "if milktea_num not in milktea_prices:\n",
    "    print('您选择的奶茶编号无效，请重新选择。')\n",
    "else:\n",
    "    # 计算未打折前的金额\n",
    "    money = milktea_prices[milktea_num] * milktea_quantity\n",
    "    if if_vip == 'y':\n",
    "        discount_str = input('今天是会员日，你可以自定义会员折扣，请输入一个0到1之间的数字：')\n",
    "        discount = float(discount_str) if discount_str.replace('.', '', 1).isdigit() else 0.9\n",
    "        if 0 < discount < 1:\n",
    "            money = money * discount\n",
    "            print(f'您可以享受会员价，折扣为：{discount * 10}折，折后总价：{money}元')\n",
    "        else:\n",
    "            print(f'您的折扣输入有误，本次消费还按照会员正常折扣9折，折后总价：{money * 0.9}元')\n",
    "    elif if_vip == 'n':\n",
    "        print('不好意思哦，您目前还不是我们的会员，本次无法享受会员价喽，永远爱你么么哒！')\n",
    "        print(f'购买明细：{milktea_num}号奶茶 {milktea_prices[milktea_num]}元*{milktea_quantity}杯')\n",
    "        print(f'应付金额：{money}元')\n",
    "        print(f'实际支付：{money}元')\n",
    "    else:\n",
    "        print('我还是个小宝宝，您的输入我看不懂，您拿着小票问问老板吧！')\n",
    "\n",
    "print(\"==================================\")\n",
    "choice = input(\"是否继续购买？（输入q退出）：\")\n"
   ]
  },
  {
   "cell_type": "code",
   "execution_count": 25,
   "id": "9bab09af-e002-466e-90f0-5e74761cf401",
   "metadata": {},
   "outputs": [
    {
     "name": "stdout",
     "output_type": "stream",
     "text": [
      "**奶茶馆自助结算系统\n",
      "(1, '原味冰奶茶  12元')\n",
      "(2, '茉香奶绿    15元')\n",
      "(3, '芝士莓果    15元')\n",
      "(4, '草莓奶昔    17元')\n",
      "(5, '黑糖珍珠    20元')\n"
     ]
    },
    {
     "name": "stdin",
     "output_type": "stream",
     "text": [
      "请选择您要购买的奶茶编号： 5\n",
      "请输入您要购买的数量： 2\n",
      "您是**奶茶馆的会员吗（y/n）？ n\n"
     ]
    },
    {
     "name": "stdout",
     "output_type": "stream",
     "text": [
      "您选择的奶茶编号无效，请重新选择。\n"
     ]
    },
    {
     "name": "stdin",
     "output_type": "stream",
     "text": [
      "请选择您要购买的奶茶编号： 5\n",
      "请输入您要购买的数量： 2\n",
      "您是**奶茶馆的会员吗（y/n）？ y\n"
     ]
    },
    {
     "name": "stdout",
     "output_type": "stream",
     "text": [
      "您选择的奶茶编号无效，请重新选择。\n"
     ]
    },
    {
     "name": "stdin",
     "output_type": "stream",
     "text": [
      "请选择您要购买的奶茶编号： 5\n",
      "请输入您要购买的数量： 2\n",
      "您是**奶茶馆的会员吗（y/n）？ n\n"
     ]
    },
    {
     "name": "stdout",
     "output_type": "stream",
     "text": [
      "您选择的奶茶编号无效，请重新选择。\n"
     ]
    },
    {
     "name": "stdin",
     "output_type": "stream",
     "text": [
      "请选择您要购买的奶茶编号： \n"
     ]
    },
    {
     "ename": "ValueError",
     "evalue": "invalid literal for int() with base 10: ''",
     "output_type": "error",
     "traceback": [
      "\u001b[1;31m---------------------------------------------------------------------------\u001b[0m",
      "\u001b[1;31mValueError\u001b[0m                                Traceback (most recent call last)",
      "Cell \u001b[1;32mIn[25], line 17\u001b[0m\n\u001b[0;32m     10\u001b[0m milktea_prices \u001b[38;5;241m=\u001b[39m {\n\u001b[0;32m     11\u001b[0m     \u001b[38;5;241m1\u001b[39m: \u001b[38;5;241m12\u001b[39m,\n\u001b[0;32m     12\u001b[0m     \u001b[38;5;241m2\u001b[39m: \u001b[38;5;241m15\u001b[39m,\n\u001b[0;32m     13\u001b[0m     \u001b[38;5;241m3\u001b[39m: \u001b[38;5;241m18\u001b[39m\n\u001b[0;32m     14\u001b[0m }\n\u001b[0;32m     16\u001b[0m \u001b[38;5;66;03m# 1. 获取顾客输入\u001b[39;00m\n\u001b[1;32m---> 17\u001b[0m milktea_num \u001b[38;5;241m=\u001b[39m \u001b[38;5;28mint\u001b[39m(\u001b[38;5;28minput\u001b[39m(\u001b[38;5;124m'\u001b[39m\u001b[38;5;124m请选择您要购买的奶茶编号：\u001b[39m\u001b[38;5;124m'\u001b[39m))\n\u001b[0;32m     18\u001b[0m milktea_quantity \u001b[38;5;241m=\u001b[39m \u001b[38;5;28mint\u001b[39m(\u001b[38;5;28minput\u001b[39m(\u001b[38;5;124m'\u001b[39m\u001b[38;5;124m请输入您要购买的数量：\u001b[39m\u001b[38;5;124m'\u001b[39m))\n\u001b[0;32m     19\u001b[0m if_vip \u001b[38;5;241m=\u001b[39m \u001b[38;5;28minput\u001b[39m(\u001b[38;5;124m'\u001b[39m\u001b[38;5;124m您是**奶茶馆的会员吗（y/n）？\u001b[39m\u001b[38;5;124m'\u001b[39m)\n",
      "\u001b[1;31mValueError\u001b[0m: invalid literal for int() with base 10: ''"
     ]
    }
   ],
   "source": [
    "##### print(\"**奶茶馆自助结算系统\")\n",
    "print(\"(1, '原味冰奶茶  12元')\")\n",
    "print(\"(2, '茉香奶绿    15元')\")\n",
    "print(\"(3, '芝士莓果    15元')\")\n",
    "print(\"(4, '草莓奶昔    17元')\")\n",
    "print(\"(5, '黑糖珍珠    20元')\")\n",
    "\n",
    "while True:\n",
    "    # 假设奶茶价格字典，这里简单设置几种奶茶价格，实际可根据需求调整\n",
    "    milktea_prices = {\n",
    "        1: 12,\n",
    "        2: 15,\n",
    "        3: 15\n",
    "        4: 17\n",
    "        5: 20\n",
    "    }\n",
    "\n",
    "    # 1. 获取顾客输入\n",
    "    milktea_num = int(input('请选择您要购买的奶茶编号：'))\n",
    "    milktea_quantity = int(input('请输入您要购买的数量：'))\n",
    "    if_vip = input('您是**奶茶馆的会员吗（y/n）？')\n",
    "\n",
    "    # 检查奶茶编号是否有效\n",
    "    if milktea_num not in milktea_prices:\n",
    "        print('您选择的奶茶编号无效，请重新选择。')\n",
    "        continue\n",
    "\n",
    "    # 计算未打折前的金额\n",
    "    money = milktea_prices[milktea_num] * milktea_quantity\n",
    "    if if_vip == 'y':\n",
    "        discount_str = input('今天是会员日，你可以自定义会员折扣，请输入一个0到1之间的数字：')\n",
    "        discount = float(discount_str) if discount_str.replace('.', '', 1).isdigit() else 0.9\n",
    "        if 0 < discount < 1:\n",
    "            money = money * discount\n",
    "            print(f'您可以享受会员价，折扣为：{discount * 10}折，折后总价：{money}元')\n",
    "        else:\n",
    "            print(f'您的折扣输入有误，本次消费还按照会员正常折扣9折，折后总价：{money * 0.9}元')\n",
    "    elif if_vip == 'n':\n",
    "        print('不好意思哦，您目前还不是我们的会员，本次无法享受会员价喽，永远爱你么么哒！')\n",
    "        print(f'购买明细：{milktea_num}号奶茶 {milktea_prices[milktea_num]}元*{milktea_quantity}杯')\n",
    "        print(f'应付金额：{money}元')\n",
    "        print(f'实际支付：{money}元')\n",
    "    else:\n",
    "        print('我还是个小宝宝，您的输入我看不懂，您拿着小票问问老板吧！')\n",
    "\n",
    "    print(\"==================================\")\n",
    "    choice = input(\"是否继续购买？（输入q离开，输入y继续购买）：\")\n",
    "    if choice == 'q':\n",
    "        break\n",
    "    elif choice != 'y':\n",
    "        print('输入有误，请重新确认是否继续购买。')\n",
    "        continue\n",
    "\n"
   ]
  },
  {
   "cell_type": "code",
   "execution_count": 27,
   "id": "3bea7ae8-f03b-46ad-8440-82756851e750",
   "metadata": {
    "scrolled": true
   },
   "outputs": [
    {
     "name": "stdout",
     "output_type": "stream",
     "text": [
      "(1, '原味冰奶茶  12元')\n",
      "(2, '茉香奶绿    15元')\n",
      "(3, '芝士莓果    15元')\n",
      "(4, '草莓奶昔    17元')\n",
      "(5, '黑糖珍珠    20元')\n"
     ]
    },
    {
     "name": "stdin",
     "output_type": "stream",
     "text": [
      "请选择您要购买的奶茶编号： 5\n",
      "请输入您要购买的数量： 2\n",
      "您是**奶茶馆的会员吗（y/n）？ n\n"
     ]
    },
    {
     "name": "stdout",
     "output_type": "stream",
     "text": [
      "不好意思哦，您目前还不是我们的会员，本次无法享受会员价喽，永远爱你么么哒！\n",
      "购买明细：5号奶茶 20元*2杯\n",
      "应付金额：40元\n",
      "实际支付：40元\n",
      "==================================\n"
     ]
    },
    {
     "name": "stdin",
     "output_type": "stream",
     "text": [
      "是否继续购买？（输入q离开，输入y继续购买）： 5\n"
     ]
    },
    {
     "name": "stdout",
     "output_type": "stream",
     "text": [
      "输入有误，请重新确认是否继续购买。\n"
     ]
    },
    {
     "name": "stdin",
     "output_type": "stream",
     "text": [
      "请选择您要购买的奶茶编号： 2\n",
      "请输入您要购买的数量： 2\n",
      "您是**奶茶馆的会员吗（y/n）？ y\n",
      "今天是会员日，你可以自定义会员折扣，请输入一个0到1之间的数字： 0.5\n"
     ]
    },
    {
     "name": "stdout",
     "output_type": "stream",
     "text": [
      "您可以享受会员价，折扣为：5.0折，折后总价：15.0元\n",
      "==================================\n"
     ]
    },
    {
     "name": "stdin",
     "output_type": "stream",
     "text": [
      "是否继续购买？（输入q离开，输入y继续购买）： q\n"
     ]
    }
   ],
   "source": [
    "##### print(\"**奶茶馆自助结算系统\")\n",
    "print(\"(1, '原味冰奶茶  12元')\")\n",
    "print(\"(2, '茉香奶绿    15元')\")\n",
    "print(\"(3, '芝士莓果    15元')\")\n",
    "print(\"(4, '草莓奶昔    17元')\")\n",
    "print(\"(5, '黑糖珍珠    20元')\")\n",
    "\n",
    "while True:\n",
    "    # 假设奶茶价格字典，这里简单设置几种奶茶价格，实际可根据需求调整\n",
    "    milktea_prices = {\n",
    "        1: 12,\n",
    "        2: 15,\n",
    "        3: 15,\n",
    "        4: 17,\n",
    "        5: 20,\n",
    "    }\n",
    "\n",
    "    # 1. 获取顾客输入\n",
    "    milktea_num = int(input('请选择您要购买的奶茶编号：'))\n",
    "    milktea_quantity = int(input('请输入您要购买的数量：'))\n",
    "    if_vip = input('您是**奶茶馆的会员吗（y/n）？')\n",
    "\n",
    "    # 检查奶茶编号是否有效\n",
    "    if milktea_num not in milktea_prices:\n",
    "        print('您选择的奶茶编号无效，请重新选择。')\n",
    "        continue\n",
    "\n",
    "    # 计算未打折前的金额\n",
    "    money = milktea_prices[milktea_num] * milktea_quantity\n",
    "    if if_vip == 'y':\n",
    "        discount_str = input('今天是会员日，你可以自定义会员折扣，请输入一个0到1之间的数字：')\n",
    "        discount = float(discount_str) if discount_str.replace('.', '', 1).isdigit() else 0.9\n",
    "        if 0 < discount < 1:\n",
    "            money = money * discount\n",
    "            print(f'您可以享受会员价，折扣为：{discount * 10}折，折后总价：{money}元')\n",
    "        else:\n",
    "            print(f'您的折扣输入有误，本次消费还按照会员正常折扣9折，折后总价：{money * 0.9}元')\n",
    "    elif if_vip == 'n':\n",
    "        print('不好意思哦，您目前还不是我们的会员，本次无法享受会员价喽，永远爱你么么哒！')\n",
    "        print(f'购买明细：{milktea_num}号奶茶 {milktea_prices[milktea_num]}元*{milktea_quantity}杯')\n",
    "        print(f'应付金额：{money}元')\n",
    "        print(f'实际支付：{money}元')\n",
    "    else:\n",
    "        print('我还是个小宝宝，您的输入我看不懂，您拿着小票问问老板吧！')\n",
    "\n",
    "    print(\"==================================\")\n",
    "    choice = input(\"是否继续购买？（输入q离开，输入y继续购买）：\")\n",
    "    if choice == 'q':\n",
    "        break\n",
    "    elif choice != 'y':\n",
    "        print('输入有误，请重新确认是否继续购买。')\n",
    "        continue\n",
    "\n"
   ]
  },
  {
   "cell_type": "code",
   "execution_count": 29,
   "id": "d0e50ce9-6ebb-4ce0-a405-13c3c234cd39",
   "metadata": {},
   "outputs": [
    {
     "name": "stdin",
     "output_type": "stream",
     "text": [
      "请输入身份证号： 420984235156458888\n"
     ]
    },
    {
     "name": "stdout",
     "output_type": "stream",
     "text": [
      "420984********8888\n"
     ]
    }
   ],
   "source": [
    "def fun(id):\n",
    "\n",
    "    if len(id)==18:\n",
    "\n",
    "        newid=id[:6]+\"*\" * 8 + id[14:]\n",
    "\n",
    "        return newid\n",
    "\n",
    "    else:\n",
    "\n",
    "        return \"err\"\n",
    "\n",
    "id=input(\"请输入身份证号：\")\n",
    "\n",
    "print(fun(id))"
   ]
  },
  {
   "cell_type": "code",
   "execution_count": 31,
   "id": "7860a671-cbc6-45bb-bf3f-65fc84c037da",
   "metadata": {},
   "outputs": [
    {
     "name": "stdout",
     "output_type": "stream",
     "text": [
      "[1, 2, 3, 4]\n"
     ]
    }
   ],
   "source": [
    "x=[1,2,3,4]\n",
    "print(x)"
   ]
  },
  {
   "cell_type": "code",
   "execution_count": null,
   "id": "e793ad78-7477-4b4b-9ad5-f48a2d0cfbf8",
   "metadata": {},
   "outputs": [],
   "source": []
  }
 ],
 "metadata": {
  "kernelspec": {
   "display_name": "Python 3 (ipykernel)",
   "language": "python",
   "name": "python3"
  },
  "language_info": {
   "codemirror_mode": {
    "name": "ipython",
    "version": 3
   },
   "file_extension": ".py",
   "mimetype": "text/x-python",
   "name": "python",
   "nbconvert_exporter": "python",
   "pygments_lexer": "ipython3",
   "version": "3.12.7"
  }
 },
 "nbformat": 4,
 "nbformat_minor": 5
}
