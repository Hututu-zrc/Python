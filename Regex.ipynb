{
 "cells": [
  {
   "cell_type": "code",
   "execution_count": 3,
   "id": "8f61ba59-eba6-4527-9db9-71e0b277b803",
   "metadata": {},
   "outputs": [
    {
     "name": "stdout",
     "output_type": "stream",
     "text": [
      "2\n",
      "2.5\n",
      "1.3\n",
      "1.1\n",
      "2.8\n",
      "2.5\n"
     ]
    }
   ],
   "source": [
    "import re\n",
    "\n",
    "content = '''\n",
    "\n",
    "Python3 高级开发工程师 上海互教教育科技有限公司上海-浦东新区2万/月02-18满员\n",
    "\n",
    "测试开发工程师（C++/python） 上海墨鹍数码科技有限公司上海-浦东新区2.5万/每月02-18未满员\n",
    "\n",
    "Python3 开发工程师 上海德拓信息技术股份有限公司上海-徐汇区1.3万/每月02-18剩余11人\n",
    "\n",
    "测试开发工程师（Python） 赫里普（上海）信息科技有限公司上海-浦东新区1.1万/每月02-18剩余5人\n",
    "\n",
    "Python高级开发工程师 上海行动教育科技股份有限公司上海-闵行区2.8万/月02-18剩余255人\n",
    "\n",
    "python开发工程师 上海优似腾软件开发有限公司上海-浦东新区2.5万/每月02-18满员\n",
    "\n",
    "'''\n",
    "for i in re.findall(r'([\\d.]+)万/每{0,1}月',content):\n",
    "    print(i)\n"
   ]
  },
  {
   "cell_type": "code",
   "execution_count": 13,
   "id": "d5d9258f-84e2-43ff-a6af-edcd4a2d1338",
   "metadata": {},
   "outputs": [
    {
     "name": "stdout",
     "output_type": "stream",
     "text": [
      "，是\n",
      "，是\n",
      "，是\n",
      "，是\n",
      "，\n"
     ]
    }
   ],
   "source": [
    "import re\n",
    "\n",
    "content = '''\n",
    "苹果，是绿色的\n",
    "\n",
    "橙子，是橙色的\n",
    "\n",
    "香蕉，是黄色的\n",
    "\n",
    "乌鸦，是黑色的\n",
    "\n",
    "猴子，\n",
    "'''\n",
    "for i in re.findall(r'，.?',content):\n",
    "    print(i)"
   ]
  },
  {
   "cell_type": "code",
   "execution_count": 20,
   "id": "e2a35edb-fcb5-4e1d-8985-56bfbe1d8e09",
   "metadata": {},
   "outputs": [
    {
     "name": "stdout",
     "output_type": "stream",
     "text": [
      "<html>\n",
      "<head>\n",
      "<title>\n",
      "</title>\n"
     ]
    }
   ],
   "source": [
    "import re\n",
    "\n",
    "content = '''\n",
    "<html><head><title>Title</title>\n",
    "'''\n",
    "for i in re.findall(r'<.*?>',content):\n",
    "    print(i)"
   ]
  },
  {
   "cell_type": "code",
   "execution_count": 21,
   "id": "6aa80771-79d7-42e5-9633-696ca7e1fecc",
   "metadata": {},
   "outputs": [
    {
     "name": "stdin",
     "output_type": "stream",
     "text": [
      " Python3 and python2.7\n"
     ]
    },
    {
     "name": "stdout",
     "output_type": "stream",
     "text": [
      "[]\n",
      "[]\n"
     ]
    }
   ],
   "source": [
    "# coding=utf-8\n",
    "\n",
    "import re\n",
    "\n",
    "input_str = input()\n",
    "\n",
    "# 1、编写获取到单词的正则，并输出匹配到的信息\n",
    "########## Begin ##########\n",
    "word=re.findall(r'\\w',input_str)\n",
    "print(word)\n",
    "\n",
    "########## End ##########\n",
    "\n",
    "# 2、编写获取到不是单词的正则，并输出匹配到的信息\n",
    "########## Begin ##########\n",
    "noword=re.findall(r'\\W',input_str)\n",
    "print(noword)\n",
    "\n",
    "########## End ##########\n",
    "\n",
    "\n",
    "\n"
   ]
  },
  {
   "cell_type": "code",
   "execution_count": 23,
   "id": "a5a50b04-47f0-4202-8723-fc8dca32eca0",
   "metadata": {},
   "outputs": [
    {
     "name": "stdin",
     "output_type": "stream",
     "text": [
      " she is\n"
     ]
    },
    {
     "name": "stdout",
     "output_type": "stream",
     "text": [
      "['she']\n"
     ]
    }
   ],
   "source": [
    "# coding=utf-8\n",
    "\n",
    "import re\n",
    "\n",
    "input_str = input()\n",
    "\n",
    "# 编写获取she或者he的字符串，并存储到变量a中\n",
    "########## Begin ##########\n",
    "a = re.findall(r's?he',input_str)\n",
    "\n",
    "########## End ##########\n",
    "print(a)\n"
   ]
  },
  {
   "cell_type": "code",
   "execution_count": 25,
   "id": "07cc2d8c-92fa-4210-b7bc-376cdf1d8e12",
   "metadata": {},
   "outputs": [
    {
     "name": "stdin",
     "output_type": "stream",
     "text": [
      " 张3：0731-8825951,李4：0733-8794561\n"
     ]
    },
    {
     "name": "stdout",
     "output_type": "stream",
     "text": [
      "['07', '31', '88', '25', '95', '07', '33', '87', '94', '56']\n",
      "['0731', '8825', '951', '0733', '8794', '561']\n"
     ]
    }
   ],
   "source": [
    "# coding=utf-8\n",
    "\n",
    "import re\n",
    "\n",
    "input_str = input()\n",
    "# 1、基于贪心模式匹配字符串中重复出现2个数字的子字符串，并存储到变量a。\n",
    "\n",
    "########## Begin ##########\n",
    "a = re.findall(r'[\\d]{2}',input_str)\n",
    "\n",
    "########## End ##########\n",
    "print(a)\n",
    "\n",
    "# 2、基于贪心模式匹配字符串中重复出现4-7个数字的子字符串，并存储到变量b。\n",
    "########## Begin ##########\n",
    "\n",
    "b = re.findall(r'[\\d]{3,4}',input_str)\n",
    "########## End ##########\n",
    "print(b)\n",
    "\n",
    "\n"
   ]
  },
  {
   "cell_type": "code",
   "execution_count": 26,
   "id": "1b6df5c9-1a2f-4830-8e2a-db15e3a005a3",
   "metadata": {},
   "outputs": [
    {
     "name": "stdin",
     "output_type": "stream",
     "text": [
      " 0731-8859456\n"
     ]
    },
    {
     "name": "stdout",
     "output_type": "stream",
     "text": [
      "['8859456']\n",
      "['0731', '8859456']\n"
     ]
    }
   ],
   "source": [
    "# coding=utf-8\n",
    "\n",
    "import re\n",
    "\n",
    "input_str = input()\n",
    "# 1、基于贪心模式匹配字符串中连续出现5个数字以上的子字符串，并存储到变量a。\n",
    "\n",
    "########## Begin ##########\n",
    "a = re.findall(r'[\\d]{5,}',input_str)\n",
    "\n",
    "########## End ##########\n",
    "print(a)\n",
    "\n",
    "# 2、匹配字符串中都为数字的子字符串，并存储到变量b。\n",
    "########## Begin ##########\n",
    "\n",
    "b = re.findall(r'[\\d]+',input_str)\n",
    "########## End ##########\n",
    "print(b)\n",
    "\n"
   ]
  },
  {
   "cell_type": "code",
   "execution_count": null,
   "id": "de7eeb86-18fd-410b-bba6-374c5268d943",
   "metadata": {},
   "outputs": [],
   "source": []
  }
 ],
 "metadata": {
  "kernelspec": {
   "display_name": "Python 3 (ipykernel)",
   "language": "python",
   "name": "python3"
  },
  "language_info": {
   "codemirror_mode": {
    "name": "ipython",
    "version": 3
   },
   "file_extension": ".py",
   "mimetype": "text/x-python",
   "name": "python",
   "nbconvert_exporter": "python",
   "pygments_lexer": "ipython3",
   "version": "3.12.7"
  }
 },
 "nbformat": 4,
 "nbformat_minor": 5
}
