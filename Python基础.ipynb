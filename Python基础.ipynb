{
 "cells": [
  {
   "cell_type": "code",
   "execution_count": 11,
   "id": "ce71ab37-1431-4d00-a296-695afac1d24d",
   "metadata": {},
   "outputs": [
    {
     "name": "stdout",
     "output_type": "stream",
     "text": [
      "10\n",
      "20\n",
      "nihao\n",
      "wodashengshuo 'nihao' hehhe 'nibuhao'\n"
     ]
    }
   ],
   "source": [
    "x =10\n",
    "print(x)\n",
    "print (x+10)\n",
    "print('nihao')\n",
    "print(\"wodashengshuo 'nihao' hehhe 'nibuhao'\")"
   ]
  },
  {
   "cell_type": "code",
   "execution_count": 13,
   "id": "236bfd85-29d5-45d1-aa5c-67b91165c704",
   "metadata": {},
   "outputs": [
    {
     "name": "stdout",
     "output_type": "stream",
     "text": [
      "60\n"
     ]
    }
   ],
   "source": [
    "x=10\n",
    "y=20\n",
    "z=30\n",
    "total=x+\\\n",
    "y+\\\n",
    "z\n",
    "print(total)"
   ]
  },
  {
   "cell_type": "code",
   "execution_count": 23,
   "id": "3be1b0d2-59c8-411a-9f2b-d5385253ee4f",
   "metadata": {},
   "outputs": [
    {
     "name": "stdout",
     "output_type": "stream",
     "text": [
      "a\n",
      "abc\n",
      "bcdefg\n",
      "abcdef\n",
      "cdefg\n"
     ]
    }
   ],
   "source": [
    "a=\"abcdefg\"\n",
    "print(a[0])\n",
    "a[:3]\n",
    "print(a[:3])\n",
    "print(a[1:])\n",
    "print(a[:-1])\n",
    "print(a[-5:])"
   ]
  },
  {
   "cell_type": "code",
   "execution_count": 28,
   "id": "ddbe2c8f-2729-4b49-a26d-0e781146d8be",
   "metadata": {},
   "outputs": [
    {
     "name": "stdout",
     "output_type": "stream",
     "text": [
      "['runoob', 786, 2.23, 'john', 70.2]\n",
      "runoob\n",
      "[786, 2.23]\n",
      "[2.23, 'john', 70.2]\n",
      "[123, 'john', 123, 'john']\n",
      "['runoob', 786, 2.23, 'john', 70.2, 123, 'john']\n",
      "1000\n",
      "['runoob', 'i love you', 2.23, 'john', 70.2]\n"
     ]
    }
   ],
   "source": [
    "list = ['runoob', 786, 2.23, 'john', 70.2]\n",
    "tinylist = [123, 'john']\n",
    "\n",
    "print(list)  # 输出完整列表\n",
    "print(list[0])  # 输出列表的第一个元素\n",
    "print(list[1:3])  # 输出第二个至第三个元素\n",
    "print(list[2:])  # 输出从第三个开始至列表末尾的所有元素\n",
    "print(tinylist * 2)  # 输出列表两次\n",
    "print(list + tinylist)  # 打印组合的列表\n",
    "\n",
    "\n",
    "#更新列表元素\n",
    "list[1]=1000\n",
    "print(list[1])\n",
    "list[1]=\"i love you\"\n",
    "print(list)"
   ]
  },
  {
   "cell_type": "code",
   "execution_count": 29,
   "id": "abf1478a-51fd-4691-932e-c45244908779",
   "metadata": {},
   "outputs": [
    {
     "name": "stdout",
     "output_type": "stream",
     "text": [
      "nihao \n",
      "('nihao ', 12345, \"hello 'world'\")\n"
     ]
    }
   ],
   "source": [
    "#元组\n",
    "tuple =('nihao ',12345,\"hello 'world'\")\n",
    "print(tuple[0])\n",
    "\n",
    "print(tuple)"
   ]
  },
  {
   "cell_type": "code",
   "execution_count": null,
   "id": "cdcf7168-11f4-437f-b016-c12dfd34c9da",
   "metadata": {},
   "outputs": [],
   "source": []
  }
 ],
 "metadata": {
  "kernelspec": {
   "display_name": "Python 3 (ipykernel)",
   "language": "python",
   "name": "python3"
  },
  "language_info": {
   "codemirror_mode": {
    "name": "ipython",
    "version": 3
   },
   "file_extension": ".py",
   "mimetype": "text/x-python",
   "name": "python",
   "nbconvert_exporter": "python",
   "pygments_lexer": "ipython3",
   "version": "3.12.7"
  }
 },
 "nbformat": 4,
 "nbformat_minor": 5
}
